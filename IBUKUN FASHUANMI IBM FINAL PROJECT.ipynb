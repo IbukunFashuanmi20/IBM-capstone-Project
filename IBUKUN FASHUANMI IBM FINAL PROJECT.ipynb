
    "### Data Analytics of Airbnb Data:\n",
    "\n",
    "#### Objective:\n",
    "\n",
    "In this exericise, I performed Data Analytics on an Open Dataset dataset coming from Airbnb. Some of the tasks include\n",
    "- Data Cleaning.\n",
    "- Data Transformation\n",
    "- Data Visualization.\n",
    "\n",
    "#### Overview of Airbnb Data:\n",
    "\n",
    "People's main criteria when visiting new places are reasonable accommodation and food. Airbnb (Air-Bed-Breakfast) is an online marketplace created to meet this need of people by renting out their homes for a short term. They offer this facility at a relatively lower price than hotels. Further people worldwide prefer the homely and economical service offered by them. They offer services across various geographical locations\n",
    "\n",
    "#### Dataset Source\n",
    "\n",
    "You can get the dataset for this assessment using the following link: https://www.kaggle.com/datasets/arianazmoudeh/airbnbopendata\n",
    "\n",
    "This dataset contains information such as the neighborhood offering these services, room type, price,avaliabilty, reviews, service fee, cancellation policy and rules to use the house. This analysis will help airbnb in improving its services.  \n",
    "\n"
   ]
  },
  {
   "cell_type": "markdown",
   "id": "9a86cf69",
   "metadata": {
    "id": "9a86cf69"
   },
   "source": [
    "## Task 1: Data Loading (Python)\n",
    "\n",
    "1. Read the csv file and load it into a pandas dataframe.\n",
    "2. Display the first five rows of your dataframe.\n",
    "3. Display the data types of the columns."
   ]
  },
  {
   "cell_type": "code",
   "execution_count": 1,
   "id": "7f93034e",
   "metadata": {},
   "outputs": [
    {
     "data": {
      "text/plain": [
       "'C:\\\\Users\\\\Ibukun\\\\Desktop\\\\DATA ANALYST\\\\IBM DATA ANALYST\\\\IBM TRAINING 2'"
      ]
     },
     "execution_count": 1,
     "metadata": {},
     "output_type": "execute_result"
    }
   ],
   "source": [
    "pwd"
   ]
  },
  {
   "cell_type": "code",
   "execution_count": 2,
   "id": "7b476756",
   "metadata": {},
   "outputs": [],
   "source": [
    "##import library\n",
    "import pandas as pd\n",
    "import numpy as np\n",
    "\n",
    "#import visualization \n",
    "import seaborn as sns\n",
    "import matplotlib.pyplot as plt\n"
   ]
  },
  {
   "cell_type": "code",
   "execution_count": 28,
   "id": "3e5ea376",
   "metadata": {
    "id": "3e5ea376"
   },
   "outputs": [],
   "source": [
    "## Read the csv file\n",
    "ab = pd.read_csv ('Airbnb_Open_Data.csv', low_memory=False)"
   ]
  },
  {
   "cell_type": "code",
   "execution_count": 29,
   "id": "18c08d94",
   "metadata": {
    "id": "18c08d94"
   },
   "outputs": [
    {
     "data": {
      "text/html": [
       "<div>\n",
       "<style scoped>\n",
       "    .dataframe tbody tr th:only-of-type {\n",
       "        vertical-align: middle;\n",
       "    }\n",
       "\n",
       "    .dataframe tbody tr th {\n",
       "        vertical-align: top;\n",
       "    }\n",
       "\n",
       "    .dataframe thead th {\n",
       "        text-align: right;\n",
       "    }\n",
       "</style>\n",
       "<table border=\"1\" class=\"dataframe\">\n",
       "  <thead>\n",
       "    <tr style=\"text-align: right;\">\n",
       "      <th></th>\n",
       "      <th>id</th>\n",
       "      <th>NAME</th>\n",
       "      <th>host id</th>\n",
       "      <th>host_identity_verified</th>\n",
       "      <th>host name</th>\n",
       "      <th>neighbourhood group</th>\n",
       "      <th>neighbourhood</th>\n",
       "      <th>lat</th>\n",
       "      <th>long</th>\n",
       "      <th>country</th>\n",
       "      <th>...</th>\n",
       "      <th>service fee</th>\n",
       "      <th>minimum nights</th>\n",
       "      <th>number of reviews</th>\n",
       "      <th>last review</th>\n",
       "      <th>reviews per month</th>\n",
       "      <th>review rate number</th>\n",
       "      <th>calculated host listings count</th>\n",
       "      <th>availability 365</th>\n",
       "      <th>house_rules</th>\n",
       "      <th>license</th>\n",
       "    </tr>\n",
       "  </thead>\n",
       "  <tbody>\n",
       "    <tr>\n",
       "      <th>0</th>\n",
       "      <td>1001254</td>\n",
       "      <td>Clean &amp; quiet apt home by the park</td>\n",
       "      <td>80014485718</td>\n",
       "      <td>unconfirmed</td>\n",
       "      <td>Madaline</td>\n",
       "      <td>Brooklyn</td>\n",
       "      <td>Kensington</td>\n",
       "      <td>40.64749</td>\n",
       "      <td>-73.97237</td>\n",
       "      <td>United States</td>\n",
       "      <td>...</td>\n",
       "      <td>$193</td>\n",
       "      <td>10.0</td>\n",
       "      <td>9.0</td>\n",
       "      <td>10/19/2021</td>\n",
       "      <td>0.21</td>\n",
       "      <td>4.0</td>\n",
       "      <td>6.0</td>\n",
       "      <td>286.0</td>\n",
       "      <td>Clean up and treat the home the way you'd like...</td>\n",
       "      <td>NaN</td>\n",
       "    </tr>\n",
       "    <tr>\n",
       "      <th>1</th>\n",
       "      <td>1002102</td>\n",
       "      <td>Skylit Midtown Castle</td>\n",
       "      <td>52335172823</td>\n",
       "      <td>verified</td>\n",
       "      <td>Jenna</td>\n",
       "      <td>Manhattan</td>\n",
       "      <td>Midtown</td>\n",
       "      <td>40.75362</td>\n",
       "      <td>-73.98377</td>\n",
       "      <td>United States</td>\n",
       "      <td>...</td>\n",
       "      <td>$28</td>\n",
       "      <td>30.0</td>\n",
       "      <td>45.0</td>\n",
       "      <td>5/21/2022</td>\n",
       "      <td>0.38</td>\n",
       "      <td>4.0</td>\n",
       "      <td>2.0</td>\n",
       "      <td>228.0</td>\n",
       "      <td>Pet friendly but please confirm with me if the...</td>\n",
       "      <td>NaN</td>\n",
       "    </tr>\n",
       "    <tr>\n",
       "      <th>2</th>\n",
       "      <td>1002403</td>\n",
       "      <td>THE VILLAGE OF HARLEM....NEW YORK !</td>\n",
       "      <td>78829239556</td>\n",
       "      <td>NaN</td>\n",
       "      <td>Elise</td>\n",
       "      <td>Manhattan</td>\n",
       "      <td>Harlem</td>\n",
       "      <td>40.80902</td>\n",
       "      <td>-73.94190</td>\n",
       "      <td>United States</td>\n",
       "      <td>...</td>\n",
       "      <td>$124</td>\n",
       "      <td>3.0</td>\n",
       "      <td>0.0</td>\n",
       "      <td>NaN</td>\n",
       "      <td>NaN</td>\n",
       "      <td>5.0</td>\n",
       "      <td>1.0</td>\n",
       "      <td>352.0</td>\n",
       "      <td>I encourage you to use my kitchen, cooking and...</td>\n",
       "      <td>NaN</td>\n",
       "    </tr>\n",
       "    <tr>\n",
       "      <th>3</th>\n",
       "      <td>1002755</td>\n",
       "      <td>NaN</td>\n",
       "      <td>85098326012</td>\n",
       "      <td>unconfirmed</td>\n",
       "      <td>Garry</td>\n",
       "      <td>Brooklyn</td>\n",
       "      <td>Clinton Hill</td>\n",
       "      <td>40.68514</td>\n",
       "      <td>-73.95976</td>\n",
       "      <td>United States</td>\n",
       "      <td>...</td>\n",
       "      <td>$74</td>\n",
       "      <td>30.0</td>\n",
       "      <td>270.0</td>\n",
       "      <td>7/5/2019</td>\n",
       "      <td>4.64</td>\n",
       "      <td>4.0</td>\n",
       "      <td>1.0</td>\n",
       "      <td>322.0</td>\n",
       "      <td>NaN</td>\n",
       "      <td>NaN</td>\n",
       "    </tr>\n",
       "    <tr>\n",
       "      <th>4</th>\n",
       "      <td>1003689</td>\n",
       "      <td>Entire Apt: Spacious Studio/Loft by central park</td>\n",
       "      <td>92037596077</td>\n",
       "      <td>verified</td>\n",
       "      <td>Lyndon</td>\n",
       "      <td>Manhattan</td>\n",
       "      <td>East Harlem</td>\n",
       "      <td>40.79851</td>\n",
       "      <td>-73.94399</td>\n",
       "      <td>United States</td>\n",
       "      <td>...</td>\n",
       "      <td>$41</td>\n",
       "      <td>10.0</td>\n",
       "      <td>9.0</td>\n",
       "      <td>11/19/2018</td>\n",
       "      <td>0.10</td>\n",
       "      <td>3.0</td>\n",
       "      <td>1.0</td>\n",
       "      <td>289.0</td>\n",
       "      <td>Please no smoking in the house, porch or on th...</td>\n",
       "      <td>NaN</td>\n",
       "    </tr>\n",
       "  </tbody>\n",
       "</table>\n",
       "<p>5 rows × 26 columns</p>\n",
       "</div>"
      ],
      "text/plain": [
       "        id                                              NAME      host id  \\\n",
       "0  1001254                Clean & quiet apt home by the park  80014485718   \n",
       "1  1002102                             Skylit Midtown Castle  52335172823   \n",
       "2  1002403               THE VILLAGE OF HARLEM....NEW YORK !  78829239556   \n",
       "3  1002755                                               NaN  85098326012   \n",
       "4  1003689  Entire Apt: Spacious Studio/Loft by central park  92037596077   \n",
       "\n",
       "  host_identity_verified host name neighbourhood group neighbourhood  \\\n",
       "0            unconfirmed  Madaline            Brooklyn    Kensington   \n",
       "1               verified     Jenna           Manhattan       Midtown   \n",
       "2                    NaN     Elise           Manhattan        Harlem   \n",
       "3            unconfirmed     Garry            Brooklyn  Clinton Hill   \n",
       "4               verified    Lyndon           Manhattan   East Harlem   \n",
       "\n",
       "        lat      long        country  ... service fee minimum nights  \\\n",
       "0  40.64749 -73.97237  United States  ...       $193            10.0   \n",
       "1  40.75362 -73.98377  United States  ...        $28            30.0   \n",
       "2  40.80902 -73.94190  United States  ...       $124             3.0   \n",
       "3  40.68514 -73.95976  United States  ...        $74            30.0   \n",
       "4  40.79851 -73.94399  United States  ...        $41            10.0   \n",
       "\n",
       "  number of reviews last review  reviews per month review rate number  \\\n",
       "0               9.0  10/19/2021               0.21                4.0   \n",
       "1              45.0   5/21/2022               0.38                4.0   \n",
       "2               0.0         NaN                NaN                5.0   \n",
       "3             270.0    7/5/2019               4.64                4.0   \n",
       "4               9.0  11/19/2018               0.10                3.0   \n",
       "\n",
       "  calculated host listings count  availability 365  \\\n",
       "0                            6.0             286.0   \n",
       "1                            2.0             228.0   \n",
       "2                            1.0             352.0   \n",
       "3                            1.0             322.0   \n",
       "4                            1.0             289.0   \n",
       "\n",
       "                                         house_rules license  \n",
       "0  Clean up and treat the home the way you'd like...     NaN  \n",
       "1  Pet friendly but please confirm with me if the...     NaN  \n",
       "2  I encourage you to use my kitchen, cooking and...     NaN  \n",
       "3                                                NaN     NaN  \n",
       "4  Please no smoking in the house, porch or on th...     NaN  \n",
       "\n",
       "[5 rows x 26 columns]"
      ]
     },
     "execution_count": 29,
     "metadata": {},
     "output_type": "execute_result"
    }
   ],
   "source": [
    "## Display the first 5 rows\n",
    "ab.head(5)"
   ]
  },
  {
   "cell_type": "code",
   "execution_count": 30,
   "id": "0e61d56e",
   "metadata": {
    "id": "0e61d56e"
   },
   "outputs": [
    {
     "data": {
      "text/plain": [
       "id                                  int64\n",
       "NAME                               object\n",
       "host id                             int64\n",
       "host_identity_verified             object\n",
       "host name                          object\n",
       "neighbourhood group                object\n",
       "neighbourhood                      object\n",
       "lat                               float64\n",
       "long                              float64\n",
       "country                            object\n",
       "country code                       object\n",
       "instant_bookable                   object\n",
       "cancellation_policy                object\n",
       "room type                          object\n",
       "Construction year                 float64\n",
       "price                              object\n",
       "service fee                        object\n",
       "minimum nights                    float64\n",
       "number of reviews                 float64\n",
       "last review                        object\n",
       "reviews per month                 float64\n",
       "review rate number                float64\n",
       "calculated host listings count    float64\n",
       "availability 365                  float64\n",
       "house_rules                        object\n",
       "license                            object\n",
       "dtype: object"
      ]
     },
     "execution_count": 30,
     "metadata": {},
     "output_type": "execute_result"
    }
   ],
   "source": [
    "## Display the data types\n",
    "ab.dtypes"
   ]
  },
  {
   "cell_type": "markdown",
   "id": "0b2e801f",
   "metadata": {
    "id": "0b2e801f"
   },
   "source": [
    "## Task 2a: Data Cleaning (Any Tool)\n",
    "\n",
    "1. Drop some of the unwanted columns. These include `host id`, `id`, `country` and `country code` from the dataset.\n",
    "2. State the reason for not including these columns for your Data Analytics.\n",
    "\n",
    "If using Python for this exercise, please include the code in the cells below. If using any other tool, please include screenshoots before and after the elimination of the columns."
   ]
  },
  {
   "cell_type": "code",
   "execution_count": 31,
   "id": "3de0751f",
   "metadata": {
    "id": "3de0751f"
   },
   "outputs": [
    {
     "data": {
      "text/plain": [
       "Index(['id', 'NAME', 'host id', 'host_identity_verified', 'host name',\n",
       "       'neighbourhood group', 'neighbourhood', 'lat', 'long', 'country',\n",
       "       'country code', 'instant_bookable', 'cancellation_policy', 'room type',\n",
       "       'Construction year', 'price', 'service fee', 'minimum nights',\n",
       "       'number of reviews', 'last review', 'reviews per month',\n",
       "       'review rate number', 'calculated host listings count',\n",
       "       'availability 365', 'house_rules', 'license'],\n",
       "      dtype='object')"
      ]
     },
     "execution_count": 31,
     "metadata": {},
     "output_type": "execute_result"
    }
   ],
   "source": [
    "## examine the columns\n",
    "ab.columns"
   ]
  },
  {
   "cell_type": "code",
   "execution_count": 32,
   "id": "01bd2922-a607-4df9-a73e-204525d4d8a4",
   "metadata": {
    "id": "01bd2922-a607-4df9-a73e-204525d4d8a4"
   },
   "outputs": [],
   "source": [
    "## Drop column (host id, id, country and country code) from dataset\n",
    "ab.drop(columns=['host id', 'id', 'country', 'country code'], axis=1, inplace=True)"
   ]
  },
  {
   "cell_type": "code",
   "execution_count": 33,
   "id": "b7537ecf-cf3f-4a64-8538-883ec723fad8",
   "metadata": {
    "id": "b7537ecf-cf3f-4a64-8538-883ec723fad8"
   },
   "outputs": [
    {
     "data": {
      "text/plain": [
       "Index(['NAME', 'host_identity_verified', 'host name', 'neighbourhood group',\n",
       "       'neighbourhood', 'lat', 'long', 'instant_bookable',\n",
       "       'cancellation_policy', 'room type', 'Construction year', 'price',\n",
       "       'service fee', 'minimum nights', 'number of reviews', 'last review',\n",
       "       'reviews per month', 'review rate number',\n",
       "       'calculated host listings count', 'availability 365', 'house_rules',\n",
       "       'license'],\n",
       "      dtype='object')"
      ]
     },
     "execution_count": 33,
     "metadata": {},
     "output_type": "execute_result"
    }
   ],
   "source": [
    "ab.columns"
   ]
  },
  {
   "cell_type": "markdown",
   "id": "efe8c8c3",
   "metadata": {},
   "source": [
    "##Reasons for not dropping host id, id, country and country code\n",
    "\n",
    "These columns do not add any values to the data \n"
   ]
  },
  {
   "cell_type": "code",
   "execution_count": 34,
   "id": "9a3c2ead",
   "metadata": {},
   "outputs": [
    {
     "data": {
      "text/plain": [
       "(102599, 22)"
      ]
     },
     "execution_count": 34,
     "metadata": {},
     "output_type": "execute_result"
    }
   ],
   "source": [
    "ab.shape"
   ]
  },
  {
   "cell_type": "code",
   "execution_count": 35,
   "id": "80ad1d30",
   "metadata": {},
   "outputs": [
    {
     "data": {
      "text/html": [
       "<div>\n",
       "<style scoped>\n",
       "    .dataframe tbody tr th:only-of-type {\n",
       "        vertical-align: middle;\n",
       "    }\n",
       "\n",
       "    .dataframe tbody tr th {\n",
       "        vertical-align: top;\n",
       "    }\n",
       "\n",
       "    .dataframe thead th {\n",
       "        text-align: right;\n",
       "    }\n",
       "</style>\n",
       "<table border=\"1\" class=\"dataframe\">\n",
       "  <thead>\n",
       "    <tr style=\"text-align: right;\">\n",
       "      <th></th>\n",
       "      <th>NAME</th>\n",
       "      <th>host_identity_verified</th>\n",
       "      <th>host name</th>\n",
       "      <th>neighbourhood group</th>\n",
       "      <th>neighbourhood</th>\n",
       "      <th>lat</th>\n",
       "      <th>long</th>\n",
       "      <th>instant_bookable</th>\n",
       "      <th>cancellation_policy</th>\n",
       "      <th>room type</th>\n",
       "      <th>...</th>\n",
       "      <th>service fee</th>\n",
       "      <th>minimum nights</th>\n",
       "      <th>number of reviews</th>\n",
       "      <th>last review</th>\n",
       "      <th>reviews per month</th>\n",
       "      <th>review rate number</th>\n",
       "      <th>calculated host listings count</th>\n",
       "      <th>availability 365</th>\n",
       "      <th>house_rules</th>\n",
       "      <th>license</th>\n",
       "    </tr>\n",
       "  </thead>\n",
       "  <tbody>\n",
       "    <tr>\n",
       "      <th>0</th>\n",
       "      <td>Clean &amp; quiet apt home by the park</td>\n",
       "      <td>unconfirmed</td>\n",
       "      <td>Madaline</td>\n",
       "      <td>Brooklyn</td>\n",
       "      <td>Kensington</td>\n",
       "      <td>40.64749</td>\n",
       "      <td>-73.97237</td>\n",
       "      <td>False</td>\n",
       "      <td>strict</td>\n",
       "      <td>Private room</td>\n",
       "      <td>...</td>\n",
       "      <td>$193</td>\n",
       "      <td>10.0</td>\n",
       "      <td>9.0</td>\n",
       "      <td>10/19/2021</td>\n",
       "      <td>0.21</td>\n",
       "      <td>4.0</td>\n",
       "      <td>6.0</td>\n",
       "      <td>286.0</td>\n",
       "      <td>Clean up and treat the home the way you'd like...</td>\n",
       "      <td>NaN</td>\n",
       "    </tr>\n",
       "    <tr>\n",
       "      <th>1</th>\n",
       "      <td>Skylit Midtown Castle</td>\n",
       "      <td>verified</td>\n",
       "      <td>Jenna</td>\n",
       "      <td>Manhattan</td>\n",
       "      <td>Midtown</td>\n",
       "      <td>40.75362</td>\n",
       "      <td>-73.98377</td>\n",
       "      <td>False</td>\n",
       "      <td>moderate</td>\n",
       "      <td>Entire home/apt</td>\n",
       "      <td>...</td>\n",
       "      <td>$28</td>\n",
       "      <td>30.0</td>\n",
       "      <td>45.0</td>\n",
       "      <td>5/21/2022</td>\n",
       "      <td>0.38</td>\n",
       "      <td>4.0</td>\n",
       "      <td>2.0</td>\n",
       "      <td>228.0</td>\n",
       "      <td>Pet friendly but please confirm with me if the...</td>\n",
       "      <td>NaN</td>\n",
       "    </tr>\n",
       "    <tr>\n",
       "      <th>2</th>\n",
       "      <td>THE VILLAGE OF HARLEM....NEW YORK !</td>\n",
       "      <td>NaN</td>\n",
       "      <td>Elise</td>\n",
       "      <td>Manhattan</td>\n",
       "      <td>Harlem</td>\n",
       "      <td>40.80902</td>\n",
       "      <td>-73.94190</td>\n",
       "      <td>True</td>\n",
       "      <td>flexible</td>\n",
       "      <td>Private room</td>\n",
       "      <td>...</td>\n",
       "      <td>$124</td>\n",
       "      <td>3.0</td>\n",
       "      <td>0.0</td>\n",
       "      <td>NaN</td>\n",
       "      <td>NaN</td>\n",
       "      <td>5.0</td>\n",
       "      <td>1.0</td>\n",
       "      <td>352.0</td>\n",
       "      <td>I encourage you to use my kitchen, cooking and...</td>\n",
       "      <td>NaN</td>\n",
       "    </tr>\n",
       "    <tr>\n",
       "      <th>3</th>\n",
       "      <td>NaN</td>\n",
       "      <td>unconfirmed</td>\n",
       "      <td>Garry</td>\n",
       "      <td>Brooklyn</td>\n",
       "      <td>Clinton Hill</td>\n",
       "      <td>40.68514</td>\n",
       "      <td>-73.95976</td>\n",
       "      <td>True</td>\n",
       "      <td>moderate</td>\n",
       "      <td>Entire home/apt</td>\n",
       "      <td>...</td>\n",
       "      <td>$74</td>\n",
       "      <td>30.0</td>\n",
       "      <td>270.0</td>\n",
       "      <td>7/5/2019</td>\n",
       "      <td>4.64</td>\n",
       "      <td>4.0</td>\n",
       "      <td>1.0</td>\n",
       "      <td>322.0</td>\n",
       "      <td>NaN</td>\n",
       "      <td>NaN</td>\n",
       "    </tr>\n",
       "    <tr>\n",
       "      <th>4</th>\n",
       "      <td>Entire Apt: Spacious Studio/Loft by central park</td>\n",
       "      <td>verified</td>\n",
       "      <td>Lyndon</td>\n",
       "      <td>Manhattan</td>\n",
       "      <td>East Harlem</td>\n",
       "      <td>40.79851</td>\n",
       "      <td>-73.94399</td>\n",
       "      <td>False</td>\n",
       "      <td>moderate</td>\n",
       "      <td>Entire home/apt</td>\n",
       "      <td>...</td>\n",
       "      <td>$41</td>\n",
       "      <td>10.0</td>\n",
       "      <td>9.0</td>\n",
       "      <td>11/19/2018</td>\n",
       "      <td>0.10</td>\n",
       "      <td>3.0</td>\n",
       "      <td>1.0</td>\n",
       "      <td>289.0</td>\n",
       "      <td>Please no smoking in the house, porch or on th...</td>\n",
       "      <td>NaN</td>\n",
       "    </tr>\n",
       "  </tbody>\n",
       "</table>\n",
       "<p>5 rows × 22 columns</p>\n",
       "</div>"
      ],
      "text/plain": [
       "                                               NAME host_identity_verified  \\\n",
       "0                Clean & quiet apt home by the park            unconfirmed   \n",
       "1                             Skylit Midtown Castle               verified   \n",
       "2               THE VILLAGE OF HARLEM....NEW YORK !                    NaN   \n",
       "3                                               NaN            unconfirmed   \n",
       "4  Entire Apt: Spacious Studio/Loft by central park               verified   \n",
       "\n",
       "  host name neighbourhood group neighbourhood       lat      long  \\\n",
       "0  Madaline            Brooklyn    Kensington  40.64749 -73.97237   \n",
       "1     Jenna           Manhattan       Midtown  40.75362 -73.98377   \n",
       "2     Elise           Manhattan        Harlem  40.80902 -73.94190   \n",
       "3     Garry            Brooklyn  Clinton Hill  40.68514 -73.95976   \n",
       "4    Lyndon           Manhattan   East Harlem  40.79851 -73.94399   \n",
       "\n",
       "  instant_bookable cancellation_policy        room type  ...  service fee  \\\n",
       "0            False              strict     Private room  ...        $193    \n",
       "1            False            moderate  Entire home/apt  ...         $28    \n",
       "2             True            flexible     Private room  ...        $124    \n",
       "3             True            moderate  Entire home/apt  ...         $74    \n",
       "4            False            moderate  Entire home/apt  ...         $41    \n",
       "\n",
       "  minimum nights number of reviews  last review  reviews per month  \\\n",
       "0           10.0               9.0   10/19/2021               0.21   \n",
       "1           30.0              45.0    5/21/2022               0.38   \n",
       "2            3.0               0.0          NaN                NaN   \n",
       "3           30.0             270.0     7/5/2019               4.64   \n",
       "4           10.0               9.0   11/19/2018               0.10   \n",
       "\n",
       "  review rate number  calculated host listings count  availability 365  \\\n",
       "0                4.0                             6.0             286.0   \n",
       "1                4.0                             2.0             228.0   \n",
       "2                5.0                             1.0             352.0   \n",
       "3                4.0                             1.0             322.0   \n",
       "4                3.0                             1.0             289.0   \n",
       "\n",
       "                                         house_rules  license  \n",
       "0  Clean up and treat the home the way you'd like...      NaN  \n",
       "1  Pet friendly but please confirm with me if the...      NaN  \n",
       "2  I encourage you to use my kitchen, cooking and...      NaN  \n",
       "3                                                NaN      NaN  \n",
       "4  Please no smoking in the house, porch or on th...      NaN  \n",
       "\n",
       "[5 rows x 22 columns]"
      ]
     },
     "execution_count": 35,
     "metadata": {},
     "output_type": "execute_result"
    }
   ],
   "source": [
    "ab.head (5)"
   ]
  },
  {
   "cell_type": "markdown",
   "id": "2071cce7",
   "metadata": {
    "id": "2071cce7"
   },
   "source": [
    "## Task 2b: Data Cleaning (Python)\n",
    "\n",
    "- Check for missing values in the dataframe and display the count in ascending order. **If the values are missing, impute the values as per the datatype of the columns.**\n",
    "- Check whether there are any duplicate values in the dataframe and, if present, remove them.\n",
    "- Display the total number of records in the dataframe before and after removing the duplicates."
   ]
  },
  {
   "cell_type": "code",
   "execution_count": 36,
   "id": "e78c0409",
   "metadata": {
    "id": "e78c0409"
   },
   "outputs": [
    {
     "data": {
      "text/plain": [
       "room type                              0\n",
       "lat                                    8\n",
       "long                                   8\n",
       "neighbourhood                         16\n",
       "neighbourhood group                   29\n",
       "cancellation_policy                   76\n",
       "instant_bookable                     105\n",
       "number of reviews                    183\n",
       "Construction year                    214\n",
       "price                                247\n",
       "NAME                                 250\n",
       "service fee                          273\n",
       "host_identity_verified               289\n",
       "calculated host listings count       319\n",
       "review rate number                   326\n",
       "host name                            406\n",
       "minimum nights                       409\n",
       "availability 365                     448\n",
       "reviews per month                  15879\n",
       "last review                        15893\n",
       "house_rules                        52131\n",
       "license                           102597\n",
       "dtype: int64"
      ]
     },
     "execution_count": 36,
     "metadata": {},
     "output_type": "execute_result"
    }
   ],
   "source": [
    "## Check for missing values in the dataframe and display the count in ascending order\n",
    "missing_values = ab.isnull().sum().sort_values(ascending = True)\n",
    "\n",
    "missing_values"
   ]
  },
  {
   "cell_type": "code",
   "execution_count": 37,
   "id": "23898c64",
   "metadata": {},
   "outputs": [
    {
     "name": "stdout",
     "output_type": "stream",
     "text": [
      "NAME\n",
      "host_identity_verified\n",
      "host name\n",
      "neighbourhood group\n",
      "neighbourhood\n",
      "instant_bookable\n",
      "cancellation_policy\n",
      "room type\n",
      "price\n",
      "service fee\n",
      "last review\n",
      "house_rules\n",
      "license\n"
     ]
    }
   ],
   "source": [
    "#impute values for datatypes\n",
    "# dtypes object or int or float\n",
    "for col in ab.columns:\n",
    "    if ab[str(col)].dtype == 'object':\n",
    "        print(col)\n",
    "        ab[str(col)].fillna(value=ab[str(col)].mode()[0], inplace=True)\n",
    "    else:\n",
    "        ab[str(col)].fillna(value=ab[str(col)].median(), inplace=True)"
   ]
  },
  {
   "cell_type": "code",
   "execution_count": 38,
   "id": "16245d50",
   "metadata": {},
   "outputs": [
    {
     "data": {
      "text/plain": [
       "(102599, 22)"
      ]
     },
     "execution_count": 38,
     "metadata": {},
     "output_type": "execute_result"
    }
   ],
   "source": [
    "# Check whether there are any duplicate values in the dataframe and, if present, remove them\n",
    "ab.shape"
   ]
  },
  {
   "cell_type": "code",
   "execution_count": 39,
   "id": "f59d3670",
   "metadata": {},
   "outputs": [
    {
     "data": {
      "text/plain": [
       "3461"
      ]
     },
     "execution_count": 39,
     "metadata": {},
     "output_type": "execute_result"
    }
   ],
   "source": [
    "#duplicate values in the dataframe\n",
    "\n",
    "ab.duplicated().sum()"
   ]
  },
  {
   "cell_type": "code",
   "execution_count": 41,
   "id": "ad680dd9",
   "metadata": {},
   "outputs": [
    {
     "data": {
      "text/plain": [
       "(99138, 22)"
      ]
     },
     "execution_count": 41,
     "metadata": {},
     "output_type": "execute_result"
    }
   ],
   "source": [
    "#remove duplicate values in the dataframe\n",
    "ab.drop_duplicates(inplace=True)\n",
    "ab.shape"
   ]
  },
  {
   "cell_type": "markdown",
   "id": "1bf8912c",
   "metadata": {
    "id": "1bf8912c"
   },
   "source": [
    "## Task 3: Data Transformation (Any Tool)\n",
    "\n",
    "\n",
    "- Rename the column `availability 365` to `days_booked`\n",
    "- Convert all column names to lowercase and replace the spaces in the column names with an underscore \"_\".\n",
    "- Remove the dollar sign and comma from the columns `price` and `service_fee`. If necessary, convert these two columns to the appropriate data type.\n",
    "\n",
    "If using Python for this exercise, please include the code in the cells below. If using any other tool, please include screenshoots of your work."
   ]
  },
  {
   "cell_type": "code",
   "execution_count": 44,
   "id": "3adf9b6b",
   "metadata": {
    "id": "3adf9b6b"
   },
   "outputs": [
    {
     "data": {
      "text/html": [
       "<div>\n",
       "<style scoped>\n",
       "    .dataframe tbody tr th:only-of-type {\n",
       "        vertical-align: middle;\n",
       "    }\n",
       "\n",
       "    .dataframe tbody tr th {\n",
       "        vertical-align: top;\n",
       "    }\n",
       "\n",
       "    .dataframe thead th {\n",
       "        text-align: right;\n",
       "    }\n",
       "</style>\n",
       "<table border=\"1\" class=\"dataframe\">\n",
       "  <thead>\n",
       "    <tr style=\"text-align: right;\">\n",
       "      <th></th>\n",
       "      <th>NAME</th>\n",
       "      <th>host_identity_verified</th>\n",
       "      <th>host name</th>\n",
       "      <th>neighbourhood group</th>\n",
       "      <th>neighbourhood</th>\n",
       "      <th>lat</th>\n",
       "      <th>long</th>\n",
       "      <th>instant_bookable</th>\n",
       "      <th>cancellation_policy</th>\n",
       "      <th>room type</th>\n",
       "      <th>...</th>\n",
       "      <th>service fee</th>\n",
       "      <th>minimum nights</th>\n",
       "      <th>number of reviews</th>\n",
       "      <th>last review</th>\n",
       "      <th>reviews per month</th>\n",
       "      <th>review rate number</th>\n",
       "      <th>calculated host listings count</th>\n",
       "      <th>days_booked</th>\n",
       "      <th>house_rules</th>\n",
       "      <th>license</th>\n",
       "    </tr>\n",
       "  </thead>\n",
       "  <tbody>\n",
       "    <tr>\n",
       "      <th>0</th>\n",
       "      <td>Clean &amp; quiet apt home by the park</td>\n",
       "      <td>unconfirmed</td>\n",
       "      <td>Madaline</td>\n",
       "      <td>Brooklyn</td>\n",
       "      <td>Kensington</td>\n",
       "      <td>40.64749</td>\n",
       "      <td>-73.97237</td>\n",
       "      <td>False</td>\n",
       "      <td>strict</td>\n",
       "      <td>Private room</td>\n",
       "      <td>...</td>\n",
       "      <td>$193</td>\n",
       "      <td>10.0</td>\n",
       "      <td>9.0</td>\n",
       "      <td>10/19/2021</td>\n",
       "      <td>0.21</td>\n",
       "      <td>4.0</td>\n",
       "      <td>6.0</td>\n",
       "      <td>286.0</td>\n",
       "      <td>Clean up and treat the home the way you'd like...</td>\n",
       "      <td>41662/AL</td>\n",
       "    </tr>\n",
       "    <tr>\n",
       "      <th>1</th>\n",
       "      <td>Skylit Midtown Castle</td>\n",
       "      <td>verified</td>\n",
       "      <td>Jenna</td>\n",
       "      <td>Manhattan</td>\n",
       "      <td>Midtown</td>\n",
       "      <td>40.75362</td>\n",
       "      <td>-73.98377</td>\n",
       "      <td>False</td>\n",
       "      <td>moderate</td>\n",
       "      <td>Entire home/apt</td>\n",
       "      <td>...</td>\n",
       "      <td>$28</td>\n",
       "      <td>30.0</td>\n",
       "      <td>45.0</td>\n",
       "      <td>5/21/2022</td>\n",
       "      <td>0.38</td>\n",
       "      <td>4.0</td>\n",
       "      <td>2.0</td>\n",
       "      <td>228.0</td>\n",
       "      <td>Pet friendly but please confirm with me if the...</td>\n",
       "      <td>41662/AL</td>\n",
       "    </tr>\n",
       "    <tr>\n",
       "      <th>2</th>\n",
       "      <td>THE VILLAGE OF HARLEM....NEW YORK !</td>\n",
       "      <td>unconfirmed</td>\n",
       "      <td>Elise</td>\n",
       "      <td>Manhattan</td>\n",
       "      <td>Harlem</td>\n",
       "      <td>40.80902</td>\n",
       "      <td>-73.94190</td>\n",
       "      <td>True</td>\n",
       "      <td>flexible</td>\n",
       "      <td>Private room</td>\n",
       "      <td>...</td>\n",
       "      <td>$124</td>\n",
       "      <td>3.0</td>\n",
       "      <td>0.0</td>\n",
       "      <td>6/23/2019</td>\n",
       "      <td>0.74</td>\n",
       "      <td>5.0</td>\n",
       "      <td>1.0</td>\n",
       "      <td>352.0</td>\n",
       "      <td>I encourage you to use my kitchen, cooking and...</td>\n",
       "      <td>41662/AL</td>\n",
       "    </tr>\n",
       "    <tr>\n",
       "      <th>3</th>\n",
       "      <td>Home away from home</td>\n",
       "      <td>unconfirmed</td>\n",
       "      <td>Garry</td>\n",
       "      <td>Brooklyn</td>\n",
       "      <td>Clinton Hill</td>\n",
       "      <td>40.68514</td>\n",
       "      <td>-73.95976</td>\n",
       "      <td>True</td>\n",
       "      <td>moderate</td>\n",
       "      <td>Entire home/apt</td>\n",
       "      <td>...</td>\n",
       "      <td>$74</td>\n",
       "      <td>30.0</td>\n",
       "      <td>270.0</td>\n",
       "      <td>7/5/2019</td>\n",
       "      <td>4.64</td>\n",
       "      <td>4.0</td>\n",
       "      <td>1.0</td>\n",
       "      <td>322.0</td>\n",
       "      <td>#NAME?</td>\n",
       "      <td>41662/AL</td>\n",
       "    </tr>\n",
       "    <tr>\n",
       "      <th>4</th>\n",
       "      <td>Entire Apt: Spacious Studio/Loft by central park</td>\n",
       "      <td>verified</td>\n",
       "      <td>Lyndon</td>\n",
       "      <td>Manhattan</td>\n",
       "      <td>East Harlem</td>\n",
       "      <td>40.79851</td>\n",
       "      <td>-73.94399</td>\n",
       "      <td>False</td>\n",
       "      <td>moderate</td>\n",
       "      <td>Entire home/apt</td>\n",
       "      <td>...</td>\n",
       "      <td>$41</td>\n",
       "      <td>10.0</td>\n",
       "      <td>9.0</td>\n",
       "      <td>11/19/2018</td>\n",
       "      <td>0.10</td>\n",
       "      <td>3.0</td>\n",
       "      <td>1.0</td>\n",
       "      <td>289.0</td>\n",
       "      <td>Please no smoking in the house, porch or on th...</td>\n",
       "      <td>41662/AL</td>\n",
       "    </tr>\n",
       "  </tbody>\n",
       "</table>\n",
       "<p>5 rows × 22 columns</p>\n",
       "</div>"
      ],
      "text/plain": [
       "                                               NAME host_identity_verified  \\\n",
       "0                Clean & quiet apt home by the park            unconfirmed   \n",
       "1                             Skylit Midtown Castle               verified   \n",
       "2               THE VILLAGE OF HARLEM....NEW YORK !            unconfirmed   \n",
       "3                               Home away from home            unconfirmed   \n",
       "4  Entire Apt: Spacious Studio/Loft by central park               verified   \n",
       "\n",
       "  host name neighbourhood group neighbourhood       lat      long  \\\n",
       "0  Madaline            Brooklyn    Kensington  40.64749 -73.97237   \n",
       "1     Jenna           Manhattan       Midtown  40.75362 -73.98377   \n",
       "2     Elise           Manhattan        Harlem  40.80902 -73.94190   \n",
       "3     Garry            Brooklyn  Clinton Hill  40.68514 -73.95976   \n",
       "4    Lyndon           Manhattan   East Harlem  40.79851 -73.94399   \n",
       "\n",
       "   instant_bookable cancellation_policy        room type  ...  service fee  \\\n",
       "0             False              strict     Private room  ...        $193    \n",
       "1             False            moderate  Entire home/apt  ...         $28    \n",
       "2              True            flexible     Private room  ...        $124    \n",
       "3              True            moderate  Entire home/apt  ...         $74    \n",
       "4             False            moderate  Entire home/apt  ...         $41    \n",
       "\n",
       "  minimum nights number of reviews  last review  reviews per month  \\\n",
       "0           10.0               9.0   10/19/2021               0.21   \n",
       "1           30.0              45.0    5/21/2022               0.38   \n",
       "2            3.0               0.0    6/23/2019               0.74   \n",
       "3           30.0             270.0     7/5/2019               4.64   \n",
       "4           10.0               9.0   11/19/2018               0.10   \n",
       "\n",
       "  review rate number  calculated host listings count  days_booked  \\\n",
       "0                4.0                             6.0        286.0   \n",
       "1                4.0                             2.0        228.0   \n",
       "2                5.0                             1.0        352.0   \n",
       "3                4.0                             1.0        322.0   \n",
       "4                3.0                             1.0        289.0   \n",
       "\n",
       "                                         house_rules   license  \n",
       "0  Clean up and treat the home the way you'd like...  41662/AL  \n",
       "1  Pet friendly but please confirm with me if the...  41662/AL  \n",
       "2  I encourage you to use my kitchen, cooking and...  41662/AL  \n",
       "3                                             #NAME?  41662/AL  \n",
       "4  Please no smoking in the house, porch or on th...  41662/AL  \n",
       "\n",
       "[5 rows x 22 columns]"
      ]
     },
     "execution_count": 44,
     "metadata": {},
     "output_type": "execute_result"
    }
   ],
   "source": [
    "## Rename the column.\n",
    "ab.rename(columns={'availability 365':'days_booked'},inplace=True)\n",
    "ab.head (5)"
   ]
  },
  {
   "cell_type": "code",
   "execution_count": 47,
   "id": "9e968504",
   "metadata": {
    "id": "9e968504"
   },
   "outputs": [
    {
     "data": {
      "text/plain": [
       "Index(['name', 'host_identity_verified', 'host_name', 'neighbourhood_group',\n",
       "       'neighbourhood', 'lat', 'long', 'instant_bookable',\n",
       "       'cancellation_policy', 'room_type', 'construction_year', 'price',\n",
       "       'service_fee', 'minimum_nights', 'number_of_reviews', 'last_review',\n",
       "       'reviews_per_month', 'review_rate_number',\n",
       "       'calculated_host_listings_count', 'days_booked', 'house_rules',\n",
       "       'license'],\n",
       "      dtype='object')"
      ]
     },
     "execution_count": 47,
     "metadata": {},
     "output_type": "execute_result"
    }
   ],
   "source": [
    "## Convert all column names to lowercase and replace the spaces with an underscore \"_\"\n",
    "ab.columns = [col.lower().replace(\" \",\"_\") for col in ab.columns]\n",
    "ab.columns"
   ]
  },
  {
   "cell_type": "code",
   "execution_count": 49,
   "id": "38430057",
   "metadata": {
    "id": "38430057"
   },
   "outputs": [
    {
     "data": {
      "text/html": [
       "<div>\n",
       "<style scoped>\n",
       "    .dataframe tbody tr th:only-of-type {\n",
       "        vertical-align: middle;\n",
       "    }\n",
       "\n",
       "    .dataframe tbody tr th {\n",
       "        vertical-align: top;\n",
       "    }\n",
       "\n",
       "    .dataframe thead th {\n",
       "        text-align: right;\n",
       "    }\n",
       "</style>\n",
       "<table border=\"1\" class=\"dataframe\">\n",
       "  <thead>\n",
       "    <tr style=\"text-align: right;\">\n",
       "      <th></th>\n",
       "      <th>price</th>\n",
       "      <th>service_fee</th>\n",
       "    </tr>\n",
       "  </thead>\n",
       "  <tbody>\n",
       "    <tr>\n",
       "      <th>0</th>\n",
       "      <td>$966</td>\n",
       "      <td>$193</td>\n",
       "    </tr>\n",
       "    <tr>\n",
       "      <th>1</th>\n",
       "      <td>$142</td>\n",
       "      <td>$28</td>\n",
       "    </tr>\n",
       "    <tr>\n",
       "      <th>2</th>\n",
       "      <td>$620</td>\n",
       "      <td>$124</td>\n",
       "    </tr>\n",
       "    <tr>\n",
       "      <th>3</th>\n",
       "      <td>$368</td>\n",
       "      <td>$74</td>\n",
       "    </tr>\n",
       "    <tr>\n",
       "      <th>4</th>\n",
       "      <td>$204</td>\n",
       "      <td>$41</td>\n",
       "    </tr>\n",
       "  </tbody>\n",
       "</table>\n",
       "</div>"
      ],
      "text/plain": [
       "   price service_fee\n",
       "0  $966        $193 \n",
       "1  $142         $28 \n",
       "2  $620        $124 \n",
       "3  $368         $74 \n",
       "4  $204         $41 "
      ]
     },
     "execution_count": 49,
     "metadata": {},
     "output_type": "execute_result"
    }
   ],
   "source": [
    "## Remove the dollar sign and comma from the columns. If necessary, convert these two columns to the appropriate data type.\n",
    "ab[['price', 'service_fee']].head()"
   ]
  },
  {
   "cell_type": "code",
   "execution_count": 50,
   "id": "4d1ff886",
   "metadata": {},
   "outputs": [],
   "source": [
    "def remove_dollar_comma_sign(value):\n",
    "    if pd.isna(value):\n",
    "        return np.NaN\n",
    "    else:\n",
    "        return value.replace(\"$\",\"\").replace(\",\",\"\")"
   ]
  },
  {
   "cell_type": "code",
   "execution_count": 51,
   "id": "6af0269d",
   "metadata": {},
   "outputs": [],
   "source": [
    "ab['price'] = ab['price'].apply(lambda x: remove_dollar_comma_sign(x))"
   ]
  },
  {
   "cell_type": "code",
   "execution_count": 52,
   "id": "ffad5b6a",
   "metadata": {},
   "outputs": [],
   "source": [
    "ab['service_fee'] = ab['service_fee'].apply(lambda x: remove_dollar_comma_sign(x))"
   ]
  },
  {
   "cell_type": "code",
   "execution_count": 53,
   "id": "e4bc2938",
   "metadata": {},
   "outputs": [
    {
     "data": {
      "text/html": [
       "<div>\n",
       "<style scoped>\n",
       "    .dataframe tbody tr th:only-of-type {\n",
       "        vertical-align: middle;\n",
       "    }\n",
       "\n",
       "    .dataframe tbody tr th {\n",
       "        vertical-align: top;\n",
       "    }\n",
       "\n",
       "    .dataframe thead th {\n",
       "        text-align: right;\n",
       "    }\n",
       "</style>\n",
       "<table border=\"1\" class=\"dataframe\">\n",
       "  <thead>\n",
       "    <tr style=\"text-align: right;\">\n",
       "      <th></th>\n",
       "      <th>price</th>\n",
       "      <th>service_fee</th>\n",
       "    </tr>\n",
       "  </thead>\n",
       "  <tbody>\n",
       "    <tr>\n",
       "      <th>0</th>\n",
       "      <td>966</td>\n",
       "      <td>193</td>\n",
       "    </tr>\n",
       "    <tr>\n",
       "      <th>1</th>\n",
       "      <td>142</td>\n",
       "      <td>28</td>\n",
       "    </tr>\n",
       "    <tr>\n",
       "      <th>2</th>\n",
       "      <td>620</td>\n",
       "      <td>124</td>\n",
       "    </tr>\n",
       "    <tr>\n",
       "      <th>3</th>\n",
       "      <td>368</td>\n",
       "      <td>74</td>\n",
       "    </tr>\n",
       "    <tr>\n",
       "      <th>4</th>\n",
       "      <td>204</td>\n",
       "      <td>41</td>\n",
       "    </tr>\n",
       "  </tbody>\n",
       "</table>\n",
       "</div>"
      ],
      "text/plain": [
       "  price service_fee\n",
       "0  966         193 \n",
       "1  142          28 \n",
       "2  620         124 \n",
       "3  368          74 \n",
       "4  204          41 "
      ]
     },
     "execution_count": 53,
     "metadata": {},
     "output_type": "execute_result"
    }
   ],
   "source": [
    "ab[['price', 'service_fee']].head()"
   ]
  },
  {
   "cell_type": "code",
   "execution_count": 54,
   "id": "0375855f",
   "metadata": {},
   "outputs": [],
   "source": [
    "ab['price'] = ab['price'].astype(int)\n",
    "ab['service_fee'] = ab['service_fee'].astype(int)"
   ]
  },
  {
   "cell_type": "markdown",
   "id": "f5fdef8b",
   "metadata": {
    "id": "f5fdef8b"
   },
   "source": [
    "### Task 4: Exploratory Data Analysis (Any Tool)\n",
    "\n",
    "- List the count of various room types avaliable in the dataset.\n",
    "- Which room type has the most strict cancellation policy?\n",
    "- List the average price per neighborhood group, and highlight the most expensive neighborhood to rent from.\n",
    "\n",
    "If using Python for this exercise, please include the code in the cells below. If using any other tool, please include screenshoots of your work."
   ]
  },
  {
   "cell_type": "code",
   "execution_count": 55,
   "id": "c171e196",
   "metadata": {
    "id": "c171e196"
   },
   "outputs": [
    {
     "data": {
      "text/plain": [
       "array(['Private room', 'Entire home/apt', 'Shared room', 'Hotel room'],\n",
       "      dtype=object)"
      ]
     },
     "execution_count": 55,
     "metadata": {},
     "output_type": "execute_result"
    }
   ],
   "source": [
    "## List the count of various room types available with Airbnb\n",
    "ab['room_type'].unique()"
   ]
  },
  {
   "cell_type": "code",
   "execution_count": 56,
   "id": "f34cc489",
   "metadata": {},
   "outputs": [
    {
     "data": {
      "text/plain": [
       "Entire home/apt    51987\n",
       "Private room       44887\n",
       "Shared room         2149\n",
       "Hotel room           115\n",
       "Name: room_type, dtype: int64"
      ]
     },
     "execution_count": 56,
     "metadata": {},
     "output_type": "execute_result"
    }
   ],
   "source": [
    "ab['room_type'].value_counts()"
   ]
  },
  {
   "cell_type": "code",
   "execution_count": 57,
   "id": "7f651811",
   "metadata": {
    "id": "7f651811",
    "scrolled": true
   },
   "outputs": [
    {
     "data": {
      "text/plain": [
       "array(['strict', 'moderate', 'flexible'], dtype=object)"
      ]
     },
     "execution_count": 57,
     "metadata": {},
     "output_type": "execute_result"
    }
   ],
   "source": [
    "## Which room type adheres to more strict cancellation policy\n",
    "ab['cancellation_policy'].unique()"
   ]
  },
  {
   "cell_type": "code",
   "execution_count": 59,
   "id": "4d3361fc",
   "metadata": {},
   "outputs": [],
   "source": [
    "ab_group_prep = ab[ab['cancellation_policy']=='strict']"
   ]
  },
  {
   "cell_type": "code",
   "execution_count": 60,
   "id": "53667fc3",
   "metadata": {},
   "outputs": [
    {
     "data": {
      "text/plain": [
       "(32926, 22)"
      ]
     },
     "execution_count": 60,
     "metadata": {},
     "output_type": "execute_result"
    }
   ],
   "source": [
    "ab_group_prep.shape"
   ]
  },
  {
   "cell_type": "code",
   "execution_count": 61,
   "id": "3fa9a864",
   "metadata": {
    "scrolled": true
   },
   "outputs": [
    {
     "data": {
      "text/html": [
       "<div>\n",
       "<style scoped>\n",
       "    .dataframe tbody tr th:only-of-type {\n",
       "        vertical-align: middle;\n",
       "    }\n",
       "\n",
       "    .dataframe tbody tr th {\n",
       "        vertical-align: top;\n",
       "    }\n",
       "\n",
       "    .dataframe thead th {\n",
       "        text-align: right;\n",
       "    }\n",
       "</style>\n",
       "<table border=\"1\" class=\"dataframe\">\n",
       "  <thead>\n",
       "    <tr style=\"text-align: right;\">\n",
       "      <th></th>\n",
       "      <th>name</th>\n",
       "      <th>host_identity_verified</th>\n",
       "      <th>host_name</th>\n",
       "      <th>neighbourhood_group</th>\n",
       "      <th>neighbourhood</th>\n",
       "      <th>lat</th>\n",
       "      <th>long</th>\n",
       "      <th>instant_bookable</th>\n",
       "      <th>cancellation_policy</th>\n",
       "      <th>room_type</th>\n",
       "      <th>...</th>\n",
       "      <th>service_fee</th>\n",
       "      <th>minimum_nights</th>\n",
       "      <th>number_of_reviews</th>\n",
       "      <th>last_review</th>\n",
       "      <th>reviews_per_month</th>\n",
       "      <th>review_rate_number</th>\n",
       "      <th>calculated_host_listings_count</th>\n",
       "      <th>days_booked</th>\n",
       "      <th>house_rules</th>\n",
       "      <th>license</th>\n",
       "    </tr>\n",
       "  </thead>\n",
       "  <tbody>\n",
       "    <tr>\n",
       "      <th>0</th>\n",
       "      <td>Clean &amp; quiet apt home by the park</td>\n",
       "      <td>unconfirmed</td>\n",
       "      <td>Madaline</td>\n",
       "      <td>Brooklyn</td>\n",
       "      <td>Kensington</td>\n",
       "      <td>40.64749</td>\n",
       "      <td>-73.97237</td>\n",
       "      <td>False</td>\n",
       "      <td>strict</td>\n",
       "      <td>Private room</td>\n",
       "      <td>...</td>\n",
       "      <td>193</td>\n",
       "      <td>10.0</td>\n",
       "      <td>9.0</td>\n",
       "      <td>10/19/2021</td>\n",
       "      <td>0.21</td>\n",
       "      <td>4.0</td>\n",
       "      <td>6.0</td>\n",
       "      <td>286.0</td>\n",
       "      <td>Clean up and treat the home the way you'd like...</td>\n",
       "      <td>41662/AL</td>\n",
       "    </tr>\n",
       "    <tr>\n",
       "      <th>8</th>\n",
       "      <td>Large Furnished Room Near B'way</td>\n",
       "      <td>verified</td>\n",
       "      <td>Evelyn</td>\n",
       "      <td>Manhattan</td>\n",
       "      <td>Hell's Kitchen</td>\n",
       "      <td>40.76489</td>\n",
       "      <td>-73.98493</td>\n",
       "      <td>True</td>\n",
       "      <td>strict</td>\n",
       "      <td>Private room</td>\n",
       "      <td>...</td>\n",
       "      <td>204</td>\n",
       "      <td>2.0</td>\n",
       "      <td>430.0</td>\n",
       "      <td>6/24/2019</td>\n",
       "      <td>3.47</td>\n",
       "      <td>3.0</td>\n",
       "      <td>1.0</td>\n",
       "      <td>180.0</td>\n",
       "      <td>- Please clean up after yourself when using th...</td>\n",
       "      <td>41662/AL</td>\n",
       "    </tr>\n",
       "  </tbody>\n",
       "</table>\n",
       "<p>2 rows × 22 columns</p>\n",
       "</div>"
      ],
      "text/plain": [
       "                                 name host_identity_verified host_name  \\\n",
       "0  Clean & quiet apt home by the park            unconfirmed  Madaline   \n",
       "8     Large Furnished Room Near B'way               verified    Evelyn   \n",
       "\n",
       "  neighbourhood_group   neighbourhood       lat      long  instant_bookable  \\\n",
       "0            Brooklyn      Kensington  40.64749 -73.97237             False   \n",
       "8           Manhattan  Hell's Kitchen  40.76489 -73.98493              True   \n",
       "\n",
       "  cancellation_policy     room_type  ...  service_fee  minimum_nights  \\\n",
       "0              strict  Private room  ...          193            10.0   \n",
       "8              strict  Private room  ...          204             2.0   \n",
       "\n",
       "   number_of_reviews  last_review  reviews_per_month review_rate_number  \\\n",
       "0                9.0   10/19/2021               0.21                4.0   \n",
       "8              430.0    6/24/2019               3.47                3.0   \n",
       "\n",
       "   calculated_host_listings_count  days_booked  \\\n",
       "0                             6.0        286.0   \n",
       "8                             1.0        180.0   \n",
       "\n",
       "                                         house_rules   license  \n",
       "0  Clean up and treat the home the way you'd like...  41662/AL  \n",
       "8  - Please clean up after yourself when using th...  41662/AL  \n",
       "\n",
       "[2 rows x 22 columns]"
      ]
     },
     "execution_count": 61,
     "metadata": {},
     "output_type": "execute_result"
    }
   ],
   "source": [
    "ab_group_prep.head(2)"
   ]
  },
  {
   "cell_type": "code",
   "execution_count": 62,
   "id": "1a7023be",
   "metadata": {},
   "outputs": [
    {
     "data": {
      "text/plain": [
       "Entire home/apt    17238\n",
       "Private room       14936\n",
       "Shared room          718\n",
       "Hotel room            34\n",
       "Name: room_type, dtype: int64"
      ]
     },
     "execution_count": 62,
     "metadata": {},
     "output_type": "execute_result"
    }
   ],
   "source": [
    "ab_group_prep['room_type'].value_counts()"
   ]
  },
  {
   "cell_type": "code",
   "execution_count": 63,
   "id": "d01c1ac4",
   "metadata": {
    "id": "d01c1ac4"
   },
   "outputs": [
    {
     "data": {
      "text/html": [
       "<div>\n",
       "<style scoped>\n",
       "    .dataframe tbody tr th:only-of-type {\n",
       "        vertical-align: middle;\n",
       "    }\n",
       "\n",
       "    .dataframe tbody tr th {\n",
       "        vertical-align: top;\n",
       "    }\n",
       "\n",
       "    .dataframe thead th {\n",
       "        text-align: right;\n",
       "    }\n",
       "</style>\n",
       "<table border=\"1\" class=\"dataframe\">\n",
       "  <thead>\n",
       "    <tr style=\"text-align: right;\">\n",
       "      <th></th>\n",
       "      <th>neighbourhood_group</th>\n",
       "      <th>price</th>\n",
       "    </tr>\n",
       "  </thead>\n",
       "  <tbody>\n",
       "    <tr>\n",
       "      <th>0</th>\n",
       "      <td>Queens</td>\n",
       "      <td>628.668822</td>\n",
       "    </tr>\n",
       "    <tr>\n",
       "      <th>1</th>\n",
       "      <td>Brooklyn</td>\n",
       "      <td>625.471627</td>\n",
       "    </tr>\n",
       "    <tr>\n",
       "      <th>2</th>\n",
       "      <td>Bronx</td>\n",
       "      <td>625.271511</td>\n",
       "    </tr>\n",
       "    <tr>\n",
       "      <th>3</th>\n",
       "      <td>Staten Island</td>\n",
       "      <td>625.060870</td>\n",
       "    </tr>\n",
       "    <tr>\n",
       "      <th>4</th>\n",
       "      <td>Manhattan</td>\n",
       "      <td>621.666140</td>\n",
       "    </tr>\n",
       "    <tr>\n",
       "      <th>5</th>\n",
       "      <td>brookln</td>\n",
       "      <td>580.000000</td>\n",
       "    </tr>\n",
       "    <tr>\n",
       "      <th>6</th>\n",
       "      <td>manhatan</td>\n",
       "      <td>460.000000</td>\n",
       "    </tr>\n",
       "  </tbody>\n",
       "</table>\n",
       "</div>"
      ],
      "text/plain": [
       "  neighbourhood_group       price\n",
       "0              Queens  628.668822\n",
       "1            Brooklyn  625.471627\n",
       "2               Bronx  625.271511\n",
       "3       Staten Island  625.060870\n",
       "4           Manhattan  621.666140\n",
       "5             brookln  580.000000\n",
       "6            manhatan  460.000000"
      ]
     },
     "execution_count": 63,
     "metadata": {},
     "output_type": "execute_result"
    }
   ],
   "source": [
    "## List the prices by neighborhood group and also mention which is the most expensive neighborhood group for rentals\n",
    "grp_avg = ab['price'].groupby(ab['neighbourhood_group']).mean().sort_values(ascending=False).reset_index()\n",
    "grp_avg"
   ]
  },
  {
   "cell_type": "code",
   "execution_count": 65,
   "id": "b1081f9e",
   "metadata": {},
   "outputs": [
    {
     "data": {
      "text/html": [
       "<div>\n",
       "<style scoped>\n",
       "    .dataframe tbody tr th:only-of-type {\n",
       "        vertical-align: middle;\n",
       "    }\n",
       "\n",
       "    .dataframe tbody tr th {\n",
       "        vertical-align: top;\n",
       "    }\n",
       "\n",
       "    .dataframe thead th {\n",
       "        text-align: right;\n",
       "    }\n",
       "</style>\n",
       "<table border=\"1\" class=\"dataframe\">\n",
       "  <thead>\n",
       "    <tr style=\"text-align: right;\">\n",
       "      <th></th>\n",
       "      <th>neighbourhood_group</th>\n",
       "      <th>price</th>\n",
       "    </tr>\n",
       "  </thead>\n",
       "  <tbody>\n",
       "    <tr>\n",
       "      <th>0</th>\n",
       "      <td>Bronx</td>\n",
       "      <td>50</td>\n",
       "    </tr>\n",
       "    <tr>\n",
       "      <th>1</th>\n",
       "      <td>Brooklyn</td>\n",
       "      <td>50</td>\n",
       "    </tr>\n",
       "    <tr>\n",
       "      <th>2</th>\n",
       "      <td>Manhattan</td>\n",
       "      <td>50</td>\n",
       "    </tr>\n",
       "    <tr>\n",
       "      <th>3</th>\n",
       "      <td>Queens</td>\n",
       "      <td>50</td>\n",
       "    </tr>\n",
       "    <tr>\n",
       "      <th>4</th>\n",
       "      <td>Staten Island</td>\n",
       "      <td>50</td>\n",
       "    </tr>\n",
       "    <tr>\n",
       "      <th>5</th>\n",
       "      <td>manhatan</td>\n",
       "      <td>460</td>\n",
       "    </tr>\n",
       "    <tr>\n",
       "      <th>6</th>\n",
       "      <td>brookln</td>\n",
       "      <td>580</td>\n",
       "    </tr>\n",
       "  </tbody>\n",
       "</table>\n",
       "</div>"
      ],
      "text/plain": [
       "  neighbourhood_group  price\n",
       "0               Bronx     50\n",
       "1            Brooklyn     50\n",
       "2           Manhattan     50\n",
       "3              Queens     50\n",
       "4       Staten Island     50\n",
       "5            manhatan    460\n",
       "6             brookln    580"
      ]
     },
     "execution_count": 65,
     "metadata": {},
     "output_type": "execute_result"
    }
   ],
   "source": [
    "grp_avg = ab['price'].groupby(ab['neighbourhood_group']).min().sort_values(ascending=True).reset_index()\n",
    "grp_avg"
   ]
  },
  {
   "cell_type": "markdown",
   "id": "ca3ed1e6",
   "metadata": {
    "id": "ca3ed1e6"
   },
   "source": [
    "## Task 5a: Data Visualization (Any Tool)\n",
    "\n",
    "* List the count of various room types avaliable with Airnb\n",
    "* Which room type adheres to more strict cancellation policy\n",
    "* List the prices by neighborhood group and also mention which is the most expensive neighborhood group for rentals\n",
    "* List the top 10 neighborhoods in the increasing order of their price with the help of a horizontal bar graph. Which is the cheapest neighborhood.\n",
    "* List the neighborhoods which offer short term rentals within 10 days. Illustrate with a bar graph\n",
    "* List the prices with respect to room type using a bar graph and also state your inferences.\n",
    "* Create a pie chart that shows  distribution of booked days for each neighborhood group .Which neighborhood has the highest booking percentage.\n",
    "\n",
    "If using Python for this exercise, please include the code in the cells below. If using any other tool, please include screenshoots of your work."
   ]
  },
  {
   "cell_type": "code",
   "execution_count": 66,
   "id": "4e5a6b74",
   "metadata": {
    "id": "4e5a6b74"
   },
   "outputs": [],
   "source": [
    "# Create a horizontal bar chart to display the top 10 most expensive neighborhoods in the dataset\n",
    "grp2 = ab['price'].groupby(ab['neighbourhood']).sum().sort_values(ascending=False)"
   ]
  },
  {
   "cell_type": "code",
   "execution_count": 67,
   "id": "a4c17b11",
   "metadata": {
    "id": "a4c17b11"
   },
   "outputs": [
    {
     "data": {
      "text/plain": [
       "neighbourhood\n",
       "Bedford-Stuyvesant    4793673\n",
       "Williamsburg          4663153\n",
       "Harlem                3317743\n",
       "Bushwick              3038762\n",
       "Hell's Kitchen        2394881\n",
       "Upper West Side       2306230\n",
       "Upper East Side       2177795\n",
       "East Village          2081467\n",
       "Midtown               1985830\n",
       "Crown Heights         1943244\n",
       "Name: price, dtype: int32"
      ]
     },
     "execution_count": 67,
     "metadata": {},
     "output_type": "execute_result"
    }
   ],
   "source": [
    "grp2.head(10)"
   ]
  },
  {
   "cell_type": "code",
   "execution_count": 70,
   "id": "2c28b705",
   "metadata": {
    "id": "2c28b705"
   },
   "outputs": [
    {
     "data": {
      "image/png": "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\n",
      "text/plain": [
       "<Figure size 640x480 with 1 Axes>"
      ]
     },
     "metadata": {},
     "output_type": "display_data"
    }
   ],
   "source": [
    "grp2.head(10).plot(kind='bar',color={'maroon'})\n",
    "plt.xlabel('Price')\n",
    "plt.ylabel('Neighbourhood')\n",
    "plt.title('Top 10 Price vs Neighbourhood')\n",
    "plt.show()"
   ]
  },
  {
   "cell_type": "code",
   "execution_count": 71,
   "id": "1d567723",
   "metadata": {
    "id": "1d567723"
   },
   "outputs": [
    {
     "data": {
      "image/png": "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\n",
      "text/plain": [
       "<Figure size 640x480 with 1 Axes>"
      ]
     },
     "metadata": {},
     "output_type": "display_data"
    }
   ],
   "source": [
    "grp2.head(10).plot(kind='barh',color={'purple'})\n",
    "plt.xlabel('Price')\n",
    "plt.ylabel('Neighbourhood')\n",
    "plt.title('Top 10 Price vs Neighbourhood')\n",
    "plt.show()"
   ]
  },
  {
   "cell_type": "code",
   "execution_count": 72,
   "id": "a54725d6",
   "metadata": {
    "scrolled": true
   },
   "outputs": [
    {
     "data": {
      "text/plain": [
       "Index(['name', 'host_identity_verified', 'host_name', 'neighbourhood_group',\n",
       "       'neighbourhood', 'lat', 'long', 'instant_bookable',\n",
       "       'cancellation_policy', 'room_type', 'construction_year', 'price',\n",
       "       'service_fee', 'minimum_nights', 'number_of_reviews', 'last_review',\n",
       "       'reviews_per_month', 'review_rate_number',\n",
       "       'calculated_host_listings_count', 'days_booked', 'house_rules',\n",
       "       'license'],\n",
       "      dtype='object')"
      ]
     },
     "execution_count": 72,
     "metadata": {},
     "output_type": "execute_result"
    }
   ],
   "source": [
    "ab.columns"
   ]
  },
  {
   "cell_type": "code",
   "execution_count": 74,
   "id": "e129b671",
   "metadata": {},
   "outputs": [
    {
     "data": {
      "text/plain": [
       "<Axes: xlabel='minimum_nights', ylabel='neighbourhood_group'>"
      ]
     },
     "execution_count": 74,
     "metadata": {},
     "output_type": "execute_result"
    },
    {
     "data": {
      "image/png": "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\n",
      "text/plain": [
       "<Figure size 640x480 with 1 Axes>"
      ]
     },
     "metadata": {},
     "output_type": "display_data"
    }
   ],
   "source": [
    "# List the neighborhoods which offer short term rentals within 10 days with a bar graph\n",
    "ab_filter_min_nights = ab[ab['minimum_nights']<10]\n",
    "ab_filter_min_nights['neighbourhood_group'].value_counts()\n",
    "\n",
    "sns.barplot(x='minimum_nights',\n",
    "           y='neighbourhood_group',\n",
    "           data=ab_filter_min_nights, orient='h')"
   ]
  },
  {
   "cell_type": "code",
   "execution_count": 75,
   "id": "70762a17",
   "metadata": {},
   "outputs": [],
   "source": [
    "# List the prices with respect to room type using a bar graph and also state your inferences.\n",
    "ab1 = ab.groupby(['room_type']).agg(mean_price=('price','mean'))"
   ]
  },
  {
   "cell_type": "code",
   "execution_count": 78,
   "id": "db1c1fed",
   "metadata": {},
   "outputs": [],
   "source": [
    "ab1 = ab1.reset_index()"
   ]
  },
  {
   "cell_type": "code",
   "execution_count": 80,
   "id": "e0665ed0",
   "metadata": {
    "scrolled": true
   },
   "outputs": [
    {
     "data": {
      "text/html": [
       "<div>\n",
       "<style scoped>\n",
       "    .dataframe tbody tr th:only-of-type {\n",
       "        vertical-align: middle;\n",
       "    }\n",
       "\n",
       "    .dataframe tbody tr th {\n",
       "        vertical-align: top;\n",
       "    }\n",
       "\n",
       "    .dataframe thead th {\n",
       "        text-align: right;\n",
       "    }\n",
       "</style>\n",
       "<table border=\"1\" class=\"dataframe\">\n",
       "  <thead>\n",
       "    <tr style=\"text-align: right;\">\n",
       "      <th></th>\n",
       "      <th>index</th>\n",
       "      <th>room_type</th>\n",
       "      <th>mean_price</th>\n",
       "    </tr>\n",
       "  </thead>\n",
       "  <tbody>\n",
       "    <tr>\n",
       "      <th>0</th>\n",
       "      <td>0</td>\n",
       "      <td>Entire home/apt</td>\n",
       "      <td>624.227711</td>\n",
       "    </tr>\n",
       "    <tr>\n",
       "      <th>1</th>\n",
       "      <td>1</td>\n",
       "      <td>Hotel room</td>\n",
       "      <td>666.391304</td>\n",
       "    </tr>\n",
       "    <tr>\n",
       "      <th>2</th>\n",
       "      <td>2</td>\n",
       "      <td>Private room</td>\n",
       "      <td>623.842516</td>\n",
       "    </tr>\n",
       "    <tr>\n",
       "      <th>3</th>\n",
       "      <td>3</td>\n",
       "      <td>Shared room</td>\n",
       "      <td>630.912517</td>\n",
       "    </tr>\n",
       "  </tbody>\n",
       "</table>\n",
       "</div>"
      ],
      "text/plain": [
       "   index        room_type  mean_price\n",
       "0      0  Entire home/apt  624.227711\n",
       "1      1       Hotel room  666.391304\n",
       "2      2     Private room  623.842516\n",
       "3      3      Shared room  630.912517"
      ]
     },
     "execution_count": 80,
     "metadata": {},
     "output_type": "execute_result"
    }
   ],
   "source": [
    "ab1.head()"
   ]
  },
  {
   "cell_type": "code",
   "execution_count": 81,
   "id": "7a5ec9a0",
   "metadata": {},
   "outputs": [
    {
     "data": {
      "text/plain": [
       "<Axes: xlabel='room_type', ylabel='mean_price'>"
      ]
     },
     "execution_count": 81,
     "metadata": {},
     "output_type": "execute_result"
    },
    {
     "data": {
      "image/png": "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\n",
      "text/plain": [
       "<Figure size 640x480 with 1 Axes>"
      ]
     },
     "metadata": {},
     "output_type": "display_data"
    }
   ],
   "source": [
    "sns.barplot(x='room_type',\n",
    "           y='mean_price',\n",
    "           data=ab1)"
   ]
  },
  {
   "cell_type": "code",
   "execution_count": 82,
   "id": "b6e9d88d",
   "metadata": {
    "scrolled": true
   },
   "outputs": [
    {
     "data": {
      "text/html": [
       "<div>\n",
       "<style scoped>\n",
       "    .dataframe tbody tr th:only-of-type {\n",
       "        vertical-align: middle;\n",
       "    }\n",
       "\n",
       "    .dataframe tbody tr th {\n",
       "        vertical-align: top;\n",
       "    }\n",
       "\n",
       "    .dataframe thead th {\n",
       "        text-align: right;\n",
       "    }\n",
       "</style>\n",
       "<table border=\"1\" class=\"dataframe\">\n",
       "  <thead>\n",
       "    <tr style=\"text-align: right;\">\n",
       "      <th></th>\n",
       "      <th>neighbourhood_group</th>\n",
       "      <th>days_booked</th>\n",
       "    </tr>\n",
       "  </thead>\n",
       "  <tbody>\n",
       "    <tr>\n",
       "      <th>0</th>\n",
       "      <td>brookln</td>\n",
       "      <td>47.000000</td>\n",
       "    </tr>\n",
       "    <tr>\n",
       "      <th>1</th>\n",
       "      <td>Brooklyn</td>\n",
       "      <td>130.765437</td>\n",
       "    </tr>\n",
       "    <tr>\n",
       "      <th>2</th>\n",
       "      <td>Manhattan</td>\n",
       "      <td>142.697820</td>\n",
       "    </tr>\n",
       "    <tr>\n",
       "      <th>3</th>\n",
       "      <td>Queens</td>\n",
       "      <td>162.424977</td>\n",
       "    </tr>\n",
       "    <tr>\n",
       "      <th>4</th>\n",
       "      <td>Bronx</td>\n",
       "      <td>178.993117</td>\n",
       "    </tr>\n",
       "    <tr>\n",
       "      <th>5</th>\n",
       "      <td>Staten Island</td>\n",
       "      <td>195.989130</td>\n",
       "    </tr>\n",
       "    <tr>\n",
       "      <th>6</th>\n",
       "      <td>manhatan</td>\n",
       "      <td>325.000000</td>\n",
       "    </tr>\n",
       "  </tbody>\n",
       "</table>\n",
       "</div>"
      ],
      "text/plain": [
       "  neighbourhood_group  days_booked\n",
       "0             brookln    47.000000\n",
       "1            Brooklyn   130.765437\n",
       "2           Manhattan   142.697820\n",
       "3              Queens   162.424977\n",
       "4               Bronx   178.993117\n",
       "5       Staten Island   195.989130\n",
       "6            manhatan   325.000000"
      ]
     },
     "execution_count": 82,
     "metadata": {},
     "output_type": "execute_result"
    }
   ],
   "source": [
    "# Create a pie chart that shows distribution of booked days for each neighborhood group\n",
    "grp3=ab['days_booked'].groupby(ab['neighbourhood_group']).mean().sort_values().reset_index()\n",
    "grp3"
   ]
  },
  {
   "cell_type": "code",
   "execution_count": 85,
   "id": "5f46845d",
   "metadata": {},
   "outputs": [
    {
     "data": {
      "text/plain": [
       "([<matplotlib.patches.Wedge at 0x211e27a3ee0>,\n",
       "  <matplotlib.patches.Wedge at 0x211e27a3d00>,\n",
       "  <matplotlib.patches.Wedge at 0x211e27a22f0>,\n",
       "  <matplotlib.patches.Wedge at 0x211e0615630>,\n",
       "  <matplotlib.patches.Wedge at 0x211e06148b0>,\n",
       "  <matplotlib.patches.Wedge at 0x211e06157b0>,\n",
       "  <matplotlib.patches.Wedge at 0x211e27bef80>],\n",
       " [Text(1.0914410636123797, 0.13695402389370517, 'brookln'),\n",
       "  Text(0.9097556964016024, 0.6183401756839318, 'Brooklyn'),\n",
       "  Text(0.2695299631376125, 1.066467814315574, 'Manhattan'),\n",
       "  Text(-0.5869396038310039, 0.9303235466517573, 'Queens'),\n",
       "  Text(-1.0943728547937364, 0.1111218011490439, 'Bronx'),\n",
       "  Text(-0.6883065813100627, -0.8580408207802552, 'Staten Island'),\n",
       "  Text(0.7150354846918396, -0.8358972757650943, 'manhatan')],\n",
       " [Text(0.5953314892431161, 0.0747021948511119, '4%'),\n",
       "  Text(0.4962303798554194, 0.3372764594639628, '11%'),\n",
       "  Text(0.1470163435296068, 0.5817097168994039, '12%'),\n",
       "  Text(-0.3201488748169111, 0.5074492072645949, '14%'),\n",
       "  Text(-0.5969306480693107, 0.060611891535842115, '15%'),\n",
       "  Text(-0.3754399534418523, -0.4680222658801392, '17%'),\n",
       "  Text(0.3900193552864579, -0.4559439685991423, '27%')])"
      ]
     },
     "execution_count": 85,
     "metadata": {},
     "output_type": "execute_result"
    },
    {
     "data": {
      "image/png": "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\n",
      "text/plain": [
       "<Figure size 640x480 with 1 Axes>"
      ]
     },
     "metadata": {},
     "output_type": "display_data"
    }
   ],
   "source": [
    "palette_color = sns.color_palette('bright')\n",
    "\n",
    "plt.pie(grp3['days_booked'], labels=grp3['neighbourhood_group'],colors=palette_color, autopct='%.0f%%')"
   ]
  },
  {
   "cell_type": "markdown",
   "id": "9c313303",
   "metadata": {
    "id": "9c313303"
   },
   "source": [
    "## Task 5b: Data Visualization (Any Tool)\n",
    "\n",
    "* Does service price and room price have an impact on each other. Illustrate this relationship with a scatter plot and state your inferences\n",
    "* Using a line graph show in which year the maximum construction of rooms took place.\n",
    "\n",
    "If using Python for this exercise, please include the code in the cells below. If using any other tool, please include screenshoots of your work."
   ]
  },
  {
   "cell_type": "code",
   "execution_count": 86,
   "id": "8c9d22b5",
   "metadata": {
    "id": "8c9d22b5"
   },
   "outputs": [
    {
     "data": {
      "text/plain": [
       "<Axes: title={'center': 'Relationship between price and service fee'}, xlabel='price', ylabel='service_fee'>"
      ]
     },
     "execution_count": 86,
     "metadata": {},
     "output_type": "execute_result"
    },
    {
     "data": {
      "image/png": "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\n",
      "text/plain": [
       "<Figure size 1500x1000 with 1 Axes>"
      ]
     },
     "metadata": {},
     "output_type": "display_data"
    }
   ],
   "source": [
    "# Does service price and room price have an impact on each other. Illustrate this relationship with a scatter plot and state your inferences\n",
    "plt.figure(figsize=(15,10))\n",
    "plt.title('Relationship between price and service fee', size=25, color='red')\n",
    "sns.scatterplot(x=ab['price'],y=ab['service_fee'], hue=ab['room_type'], s=30)"
   ]
  },
  {
   "cell_type": "code",
   "execution_count": 87,
   "id": "343be5c4",
   "metadata": {
    "id": "343be5c4",
    "scrolled": true
   },
   "outputs": [
    {
     "data": {
      "text/plain": [
       "Index(['name', 'host_identity_verified', 'host_name', 'neighbourhood_group',\n",
       "       'neighbourhood', 'lat', 'long', 'instant_bookable',\n",
       "       'cancellation_policy', 'room_type', 'construction_year', 'price',\n",
       "       'service_fee', 'minimum_nights', 'number_of_reviews', 'last_review',\n",
       "       'reviews_per_month', 'review_rate_number',\n",
       "       'calculated_host_listings_count', 'days_booked', 'house_rules',\n",
       "       'license'],\n",
       "      dtype='object')"
      ]
     },
     "execution_count": 87,
     "metadata": {},
     "output_type": "execute_result"
    }
   ],
   "source": [
    "ab.columns"
   ]
  },
  {
   "cell_type": "code",
   "execution_count": 88,
   "id": "59144fb4",
   "metadata": {},
   "outputs": [
    {
     "data": {
      "text/plain": [
       "<Figure size 1000x500 with 0 Axes>"
      ]
     },
     "metadata": {},
     "output_type": "display_data"
    }
   ],
   "source": [
    "# Using a line graph show in which year the maximum construction of rooms took place.\n",
    "plt.figure(figsize=(10,5))\n",
    "ab['construction_year_counts']=df['construction_year'].value_counts()"
   ]
  },
  {
   "cell_type": "code",
   "execution_count": 89,
   "id": "da60706c",
   "metadata": {},
   "outputs": [
    {
     "data": {
      "image/png": "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\n",
      "text/plain": [
       "<Figure size 640x480 with 1 Axes>"
      ]
     },
     "metadata": {},
     "output_type": "display_data"
    }
   ],
   "source": [
    "sns.lineplot(x='construction_year',y='construction_year_counts',data=ab)\n",
    "plt.show()"
   ]
  },
  {
   "cell_type": "markdown",
   "id": "9db2466c",
   "metadata": {
    "id": "9db2466c"
   },
   "source": [
    "## Task 5c: Data Visualization (Any Tool)\n",
    "\n",
    "* With the help of box plots illustrate the following\n",
    " * Effect of Review Rate number on price\n",
    " * Effect of host identity verified on price\n",
    "\n",
    "If using Python for this exercise, please include the code in the cells below. If using any other tool, please include screenshoots of your work."
   ]
  },
  {
   "cell_type": "code",
   "execution_count": 90,
   "id": "3f1fb0c3",
   "metadata": {
    "id": "3f1fb0c3"
   },
   "outputs": [
    {
     "data": {
      "text/plain": [
       "<Axes: xlabel='review_rate_number', ylabel='price'>"
      ]
     },
     "execution_count": 90,
     "metadata": {},
     "output_type": "execute_result"
    },
    {
     "data": {
      "image/png": "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\n",
      "text/plain": [
       "<Figure size 640x480 with 1 Axes>"
      ]
     },
     "metadata": {},
     "output_type": "display_data"
    }
   ],
   "source": [
    "# With the help of box plots illustrate the following\n",
    "# Effect of Review Rate number on price\n",
    "sns.boxplot(x='review_rate_number',y='price',data=ab)"
   ]
  },
  {
   "cell_type": "code",
   "execution_count": 91,
   "id": "fcdb016f",
   "metadata": {
    "id": "fcdb016f"
   },
   "outputs": [
    {
     "data": {
      "text/plain": [
       "<Axes: xlabel='host_identity_verified', ylabel='price'>"
      ]
     },
     "execution_count": 91,
     "metadata": {},
     "output_type": "execute_result"
    },
    {
     "data": {
      "image/png": "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\n",
      "text/plain": [
       "<Figure size 640x480 with 1 Axes>"
      ]
     },
     "metadata": {},
     "output_type": "display_data"
    }
   ],
   "source": [
    "# With the help of box plots illustrate the following\n",
    "# Effect of host identity verified on price\n",
    "sns.boxplot(x='host_identity_verified',y='price',data=ab)"
   ]
  },
  {
   "cell_type": "code",
   "execution_count": null,
   "id": "1d65f685",
   "metadata": {
    "id": "1d65f685"
   },
   "outputs": [],
   "source": []
  }
 ],
 "metadata": {
  "colab": {
   "provenance": []
  },
  "kernelspec": {
   "display_name": "Python 3 (ipykernel)",
   "language": "python",
   "name": "python3"
  },
  "language_info": {
   "codemirror_mode": {
    "name": "ipython",
    "version": 3
   },
   "file_extension": ".py",
   "mimetype": "text/x-python",
   "name": "python",
   "nbconvert_exporter": "python",
   "pygments_lexer": "ipython3",
   "version": "3.10.9"
  },
  "nteract": {
   "version": "0.28.0"
  }
 },
 "nbformat": 4,
 "nbformat_minor": 5
}
